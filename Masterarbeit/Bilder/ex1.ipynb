{
 "cells": [
  {
   "cell_type": "code",
   "execution_count": 61,
   "metadata": {},
   "outputs": [
    {
     "name": "stderr",
     "output_type": "stream",
     "text": [
      "/opt/conda/lib/python3.7/site-packages/ipykernel_launcher.py:7: DeprecationWarning: object of type <class 'float'> cannot be safely interpreted as an integer.\n",
      "  import sys\n",
      "/opt/conda/lib/python3.7/site-packages/ipykernel_launcher.py:8: RuntimeWarning: divide by zero encountered in true_divide\n",
      "  \n",
      "/opt/conda/lib/python3.7/site-packages/ipykernel_launcher.py:8: RuntimeWarning: invalid value encountered in subtract\n",
      "  \n",
      "/opt/conda/lib/python3.7/site-packages/ipykernel_launcher.py:9: RuntimeWarning: divide by zero encountered in true_divide\n",
      "  if __name__ == '__main__':\n",
      "/opt/conda/lib/python3.7/site-packages/ipykernel_launcher.py:9: RuntimeWarning: invalid value encountered in subtract\n",
      "  if __name__ == '__main__':\n"
     ]
    },
    {
     "data": {
      "text/plain": [
       "Text(0, 0.5, '$(\\\\frac{d\\\\sigma}{d\\\\Omega})_{cms}$ []')"
      ]
     },
     "execution_count": 61,
     "metadata": {},
     "output_type": "execute_result"
    },
    {
     "data": {
      "image/png": "[encoded data removed]",
      "text/plain": [
       "<Figure size 432x288 with 1 Axes>"
      ]
     },
     "metadata": {
      "needs_background": "light"
     },
     "output_type": "display_data"
    }
   ],
   "source": [
    "import matplotlib.pyplot as plt\n",
    "import numpy as np\n",
    "\n",
    "a=1/137\n",
    "E=5.4\n",
    "pi = np.pi\n",
    "x = np.linspace(0,pi,pi*100) \n",
    "y = a**2/(16*E**2)*(1/(np.sin(x/2)**4) +  np.cos(x/2)**4/(np.sin(x/2)**4) - 2*(np.cos(x/2)**4/(np.sin(x/2)**2)) + (1+np.cos(x)**2)/2)\n",
    "y1 = y + a**2/(16*E**2)*(1/(np.sin((pi-x)/2)**4) +  np.cos((pi-x)/2)**4/(np.sin((pi-x)/2)**4) - 2*(np.cos((pi-x)/2)**4/(np.sin((pi-x)/2)**2)) + (1+np.cos((pi-x)**2)/2))\n",
    "\n",
    "\n",
    "\n",
    "\n",
    "# compose plot\n",
    "plt.semilogy(x,y) \n",
    "plt.xlabel('$\\\\theta_{cms}$ [rad]')\n",
    "plt.ylabel('$(\\\\frac{d\\\\sigma}{d\\\\Omega})_{cms}$ []')\n",
    "\n"
   ]
  },
  {
   "cell_type": "code",
   "execution_count": 60,
   "metadata": {},
   "outputs": [
    {
     "name": "stderr",
     "output_type": "stream",
     "text": [
      "/opt/conda/lib/python3.7/site-packages/ipykernel_launcher.py:1: RuntimeWarning: divide by zero encountered in true_divide\n",
      "  \"\"\"Entry point for launching an IPython kernel.\n",
      "/opt/conda/lib/python3.7/site-packages/ipykernel_launcher.py:1: RuntimeWarning: invalid value encountered in subtract\n",
      "  \"\"\"Entry point for launching an IPython kernel.\n",
      "/opt/conda/lib/python3.7/site-packages/ipykernel_launcher.py:2: RuntimeWarning: divide by zero encountered in true_divide\n",
      "  \n",
      "/opt/conda/lib/python3.7/site-packages/ipykernel_launcher.py:2: RuntimeWarning: invalid value encountered in subtract\n",
      "  \n"
     ]
    },
    {
     "data": {
      "text/plain": [
       "Text(0, 0.5, '$(\\\\frac{d\\\\sigma}{d\\\\Omega})_{cms}$ []')"
      ]
     },
     "execution_count": 60,
     "metadata": {},
     "output_type": "execute_result"
    },
    {
     "data": {
      "image/png": "[encoded data removed]",
      "text/plain": [
       "<Figure size 432x288 with 1 Axes>"
      ]
     },
     "metadata": {
      "needs_background": "light"
     },
     "output_type": "display_data"
    }
   ],
   "source": [
    "y = a**2/(16*E**2)*(1/(np.sin(x/2)**4) +  np.cos(x/2)**4/(np.sin(x/2)**4) - 2*(np.cos(x/2)**4/(np.sin(x/2)**2)) + (1+np.cos(x)**2)/2)\n",
    "y1 = y + a**2/(16*E**2)*(1/(np.sin((pi-x)/2)**4) +  np.cos((pi-x)/2)**4/(np.sin((pi-x)/2)**4) - 2*(np.cos((pi-x)/2)**4/(np.sin((pi-x)/2)**2)) + (1+np.cos((pi-x)**2)/2))\n",
    "\n",
    "\n",
    "\n",
    "\n",
    "# compose plot\n",
    "plt.semilogy(x,y1) \n",
    " \n",
    "plt.xlabel('$\\\\theta_{cms}$ [rad]')\n",
    "plt.ylabel('$(\\\\frac{d\\\\sigma}{d\\\\Omega})_{cms}$ []')"
   ]
  },
  {
   "cell_type": "code",
   "execution_count": null,
   "metadata": {},
   "outputs": [],
   "source": [
    "import scipy\n",
    "import scipy.stats as st\n",
    "import matplotlib.pyplot as plt\n",
    "import numpy as np"
   ]
  },
  {
   "cell_type": "markdown",
   "metadata": {},
   "source": [
    "# Excersise 1.1: The age of students\n",
    "Given is the age of a class of 25 students. \n",
    "* Visualize the data (choose a suitable bin size and range)\n",
    "* Calcualate mean, standard deviation and skewness\n",
    "* Add the age of the lecturer (45). How do mean standard deviation and skewness change?\n",
    "\n",
    "**Hint:** Append a value to the end of an array: `a = np.append(a, [100])`"
   ]
  },
  {
   "cell_type": "code",
   "execution_count": 5,
   "metadata": {},
   "outputs": [
    {
     "name": "stdout",
     "output_type": "stream",
     "text": [
      "mean 19.3\n",
      "std deviation 0.5773502691896254\n",
      "skew  0.8312924096324298\n",
      "mean 19.3\n",
      "std deviation 0.5773502691896254\n",
      "skew  0.8312924096324298\n"
     ]
    },
    {
     "data": {
      "image/png": "[encoded data removed]",
      "text/plain": [
       "<Figure size 432x288 with 1 Axes>"
      ]
     },
     "metadata": {
      "needs_background": "light"
     },
     "output_type": "display_data"
    }
   ],
   "source": [
    "age = np.array([19.0, 18.7, 19.3, 19.2, 18.9, 19.0, 20.2, 19.9, 18.6, \n",
    "                19.4, 19.3, 18.8, 19.3, 19.2, 18.7, 18.5, 18.6, 19.7, \n",
    "                19.9, 20.0, 19.5, 19.4, 19.6, 20.9, 18.9])\n",
    "len(age)\n",
    "\n",
    "\n",
    "plt.hist(age, bins=5)\n",
    "print(\"mean\", st.tmean(age))\n",
    "print(\"std deviation\", st.tstd(age))\n",
    "print(\"skew \", st.skew(age))\n",
    "\n"
   ]
  },
  {
   "cell_type": "code",
   "execution_count": null,
   "metadata": {},
   "outputs": [],
   "source": [
    "age = np.array([19.0, 18.7, 19.3, 19.2, 18.9, 19.0, 20.2, 19.9, 18.6, \n",
    "                19.4, 19.3, 18.8, 19.3, 19.2, 18.7, 18.5, 18.6, 19.7, \n",
    "                19.9, 20.0, 19.5, 19.4, 19.6, 20.9, 18.9])\n",
    "np.append(age,45)\n",
    "\n",
    "print(age)\n",
    "plt.hist(age, bins=5)\n",
    "print(\"mean\", st.tmean(age))\n",
    "print(\"std deviation\", st.tstd(age))\n",
    "print(\"skew \", st.skew(age))"
   ]
  },
  {
   "cell_type": "code",
   "execution_count": null,
   "metadata": {},
   "outputs": [],
   "source": [
    "age = np.append(age, [45])\n",
    "st.tmean(age), st.tstd(age), st.skew(age) # alternative: st.describe(age)"
   ]
  },
  {
   "cell_type": "markdown",
   "metadata": {},
   "source": [
    "# Excersise 1.2: Physics marks\n",
    "Given are the marks of 12 students for in classical mechanics and quantum mechanics.\n",
    "* Calculate the average marks\n",
    "* Calculate the covariance of both samples: $ \\text{cov}(\\vec{x},\\vec{y}) = \\frac{1}{N} \\sum_i (x_i - \\bar{x})(y_i - \\bar{y})$ \n",
    "* Calculate the correlation: $ \\text{cor}(\\vec{x},\\vec{y}) = \\frac{\\text{cov}(\\vec{x},\\vec{y})}{\\sigma_x \\sigma_y}$"
   ]
  },
  {
   "cell_type": "code",
   "execution_count": null,
   "metadata": {},
   "outputs": [],
   "source": [
    "marks = np.array([[22,48,76,10,22,4,68,44,10,76,14,56], # Classical mechanics\n",
    "                 [63,39,61,30,51,44,74,78,55,58,41,69]]) # Quantum mechanics\n",
    "print(marks[0])# Classical mechanics\n",
    "print(marks[1])# Quantum mechanics"
   ]
  },
  {
   "cell_type": "code",
   "execution_count": null,
   "metadata": {},
   "outputs": [],
   "source": [
    "cov = 0\n",
    "for s in marks.transpose(): # s = [mark classical, mark quantum]\n",
    "    print(s[0], s[1])\n",
    "    cov = cov + ..."
   ]
  },
  {
   "cell_type": "markdown",
   "metadata": {},
   "source": [
    "## Solution 2:"
   ]
  },
  {
   "cell_type": "code",
   "execution_count": null,
   "metadata": {},
   "outputs": [],
   "source": [
    "cmean = st.tmean(marks[0]) #alternative: np.mean(marks, axis=1))\n",
    "cstd = st.tstd(marks[0])\n",
    "qmean = st.tmean(marks[1])\n",
    "qstd = st.tstd(marks[1])\n",
    "print('Classical: mu = {} sigma = {}'.format(cmean, cstd) ) \n",
    "print('Quantum: mu = {}, sigma = {}'.format(qmean, qstd) )\n",
    "cov = 0\n",
    "for s in marks.transpose(): # loop over pairs s = [mark classical],[mark quantum]\n",
    "    cov = cov + (s[0]-cmean)*(s[1]-qmean)\n",
    "#     print(cov, s, cmean, qmean)\n",
    "\n",
    "cov = cov / (len(marks.transpose())-1) #alternative:  np.cov(marks, bias=False)\n",
    "print(cov)\n",
    "corr = cov / (cstd*qstd)               #alternative: np.corrcoef(marks)\n",
    "print(corr)"
   ]
  },
  {
   "cell_type": "markdown",
   "metadata": {},
   "source": [
    "# Excersise 1.3: Central limit theorem\n",
    "* Generate samples of values $s_N$ which are the sum of uniformly distributed random numbers $r_i$: <br>\n",
    "$s_N=(r_1+r_2+...+r_N)/N$\n",
    "* Plot the result for $s_N$ for different $N$.\n",
    "* How is $s_N$ distributed for large $N$?\n",
    "\n",
    "**Hint**: Given two arrays `a = [0,1,3], b=[2,3,5]`. An element-wise addition can be achieved via `c=np.sum([a,b], axis=0) -> [2,4,8]`"
   ]
  },
  {
   "cell_type": "code",
   "execution_count": null,
   "metadata": {},
   "outputs": [],
   "source": [
    "maxN = 1\n",
    "size = 10000\n",
    "\n",
    "data = st.uniform.rvs(size=size)  # 10000 uniformly distributed numbers\n",
    "print(data[0:4])\n",
    "_ = plt.hist(data/1, bins=100, histtype='step', label='1') # create a hist w/o fill\n",
    "plt.legend()                      # Add a legend to the plot"
   ]
  },
  {
   "cell_type": "markdown",
   "metadata": {},
   "source": [
    "## Solution 1.3"
   ]
  },
  {
   "cell_type": "code",
   "execution_count": null,
   "metadata": {},
   "outputs": [],
   "source": [
    "maxN = 5\n",
    "size = 10000\n",
    "\n",
    "data = np.zeros(size)    # Create array [0,0,0,...]\n",
    "for i in range(1,maxN+1):\n",
    "    new_rvs = st.uniform.rvs(size=size)\n",
    "    data = np.sum([data, new_rvs], axis=0)\n",
    "    print('N =',i, data[0:3], st.tmean(data))\n",
    "    plt.hist(data/i, bins=100, histtype='step', label=i)\n",
    "plt.legend()"
   ]
  }
 ],
 "metadata": {
  "kernelspec": {
   "display_name": "Python 3",
   "language": "python",
   "name": "python3"
  },
  "language_info": {
   "codemirror_mode": {
    "name": "ipython",
    "version": 3
   },
   "file_extension": ".py",
   "mimetype": "text/x-python",
   "name": "python",
   "nbconvert_exporter": "python",
   "pygments_lexer": "ipython3",
   "version": "3.7.3"
  }
 },
 "nbformat": 4,
 "nbformat_minor": 2
}
